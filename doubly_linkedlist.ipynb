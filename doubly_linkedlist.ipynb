{
 "cells": [
  {
   "cell_type": "code",
   "execution_count": 188,
   "metadata": {},
   "outputs": [],
   "source": [
    "class Node:\n",
    "    def __init__(self,data,next,prev):\n",
    "        self.data = data\n",
    "        self.next = next\n",
    "        self.prev = prev\n",
    "\n",
    "class Dllist:\n",
    "    def __init__(self):\n",
    "        self.head = None\n",
    "\n",
    "    def insatbeg(self,data):\n",
    "        if self.head == None:\n",
    "            node = Node(data,self.head,None)\n",
    "            self.head = node\n",
    "        else:\n",
    "            node = Node(data,self.head,None)\n",
    "            self.head.prev = node\n",
    "            self.head = node\n",
    "\n",
    "    def insatend(self,data):\n",
    "        if self.head == None:\n",
    "            self.insatbeg(data)\n",
    "        else:\n",
    "            itr = self.head\n",
    "            while itr.next:\n",
    "                itr = itr.next\n",
    "            itr.next = Node(data,None,itr)\n",
    "\n",
    "    def getlen(self):\n",
    "        if self.head == None:\n",
    "            return 0\n",
    "        else:\n",
    "            itr = self.head\n",
    "            count = 0\n",
    "            while itr:\n",
    "                count+=1\n",
    "                itr = itr.next\n",
    "            return count\n",
    "\n",
    "\n",
    "\n",
    "    def printf(self):\n",
    "        if self.head == None:\n",
    "            return 'empty list'\n",
    "        else:\n",
    "            itr = self.head\n",
    "            ll = ''\n",
    "\n",
    "            while itr:\n",
    "                ll += str(itr.data) + '--->'\n",
    "                itr = itr.next\n",
    "\n",
    "            print(ll)\n",
    "    \n",
    "    def printr(self):\n",
    "        if self.head == None:\n",
    "            return 'empty list'\n",
    "        else:\n",
    "            itr = self.getlast()\n",
    "            ll = ''\n",
    "            while itr:\n",
    "                ll += str(itr.data) + '<---'\n",
    "                itr = itr.prev\n",
    "            print(ll)\n",
    "\n",
    "    def getlast(self):\n",
    "        if self.head == None:\n",
    "            return 'empty list'\n",
    "        else:\n",
    "            itr = self.head\n",
    "            while itr:\n",
    "                itr = itr.next\n",
    "                if itr.next is None:\n",
    "                    print(itr.data)\n",
    "                    return itr\n",
    "\n",
    "                    \n",
    "    def insert_values(self,datalist):\n",
    "        \n",
    "        self.head = None\n",
    "        for data in datalist:\n",
    "            self.insatend(data)\n",
    "        return\n",
    "\n",
    "\n",
    "\n",
    "    def insertat(self,data,index):\n",
    "        if self.head == None:\n",
    "            return 'empty list baka'\n",
    "        else:\n",
    "            itr = self.head\n",
    "            count = 0\n",
    "            while itr:\n",
    "                if count == index-1:\n",
    "                    node = Node(data,itr.next,itr)\n",
    "                    itr.next.prev = node\n",
    "                    itr.next = node\n",
    "                    \n",
    "                itr = itr.next\n",
    "                count +=1\n",
    "\n",
    "    def insertafterval(self,val,data):\n",
    "        if self.head == None:\n",
    "            return 'empty linked list'\n",
    "        else:\n",
    "            itr = self.head\n",
    "            while itr:\n",
    "                if itr.data == val:\n",
    "                    node = Node(data,itr.next,itr)\n",
    "                    itr.next = node\n",
    "                    itr.next.prev = node\n",
    "                itr = itr.next\n",
    "    \n",
    "    def removeat(self,index):\n",
    "        if self.head == None:\n",
    "            return 'empty list'\n",
    "        else:\n",
    "            itr = self.head\n",
    "            count = 0\n",
    "\n",
    "            while itr:\n",
    "                if count == index-1:\n",
    "                    itr.next = itr.next.next\n",
    "                    itr.next.prev = itr\n",
    "                \n",
    "                itr = itr.next\n",
    "                count +=1\n",
    "            return\n",
    "\n",
    "\n",
    "\n"
   ]
  },
  {
   "cell_type": "code",
   "execution_count": 189,
   "metadata": {},
   "outputs": [],
   "source": [
    "class Node:\n",
    "    def __init__(self,data,next):\n",
    "        self.data = data\n",
    "        self.next = next\n",
    "class LinkedList:\n",
    "    def __init__(self):\n",
    "        self.head = None\n",
    "\n",
    "    def insatbeg(self,data):\n",
    "        node = Node(data,self.head)\n",
    "        self.head = node\n",
    "    \n",
    "    def insatend(self,data):\n",
    "        if self.head == None:\n",
    "            self.head = Node(data,None)\n",
    "            return\n",
    "        \n",
    "        else:\n",
    "            itr = self.head\n",
    "            \n",
    "            while itr.next:\n",
    "                itr = itr.next\n",
    "\n",
    "            itr.next = Node(data,None)   \n",
    "            return\n",
    "    \n",
    "    def printll(self):\n",
    "        itr =  self.head\n",
    "        ll = ''\n",
    "        while itr:\n",
    "            ll += str(itr.data) + '--->'\n",
    "            itr = itr.next\n",
    "        print(ll)\n",
    "\n",
    "    def insert_values(self,data_list):\n",
    "        self.head = None\n",
    "        for data in data_list:\n",
    "            self.insatend(data)\n",
    "    \n",
    "    def get_length(self):\n",
    "        itr = self.head\n",
    "        count = 0\n",
    "        while itr:\n",
    "            count+=1\n",
    "            itr = itr.next\n",
    "        print(count)\n",
    "        return count\n",
    "\n",
    "    def insat(self,data,index):\n",
    "        if self.head == None:\n",
    "            return 'empty linked list baka'\n",
    "        \n",
    "        else:\n",
    "            count = 0\n",
    "            itr =  self.head\n",
    "            while itr:\n",
    "                count +=1\n",
    "                itr = itr.next\n",
    "                if count == index-1:\n",
    "                    itr.next = Node(data,itr.next)\n",
    "            return\n",
    "\n",
    "    def remove_at(self,index):\n",
    "        if self.head ==None:\n",
    "            return 'empty linked list baka'\n",
    "\n",
    "        else:\n",
    "            count = 0\n",
    "            itr = self.head\n",
    "            while itr:\n",
    "                count+=1\n",
    "                itr = itr.next\n",
    "                if count == index -1:\n",
    "                    itr.next = itr.next.next \n",
    "\n",
    "    def insafterval(self,val,dat):\n",
    "        itr = self.head\n",
    "        while itr:\n",
    "            itr = itr.next\n",
    "            if itr.data == val:\n",
    "                itr.next = Node(dat,itr.next)\n",
    "\n",
    "                break\n",
    "            \n",
    "        return\n",
    "\n",
    "    def remove_by_val(self,val):\n",
    "        itr = self.head\n",
    "        while itr.next:\n",
    "            if itr.next.data == val:\n",
    "                itr.next = itr.next.next\n",
    "                break\n",
    "            itr = itr.next\n"
   ]
  },
  {
   "cell_type": "code",
   "execution_count": 190,
   "metadata": {},
   "outputs": [],
   "source": [
    "x = Dllist()"
   ]
  },
  {
   "cell_type": "code",
   "execution_count": 191,
   "metadata": {},
   "outputs": [
    {
     "ename": "TypeError",
     "evalue": "__init__() takes 3 positional arguments but 4 were given",
     "output_type": "error",
     "traceback": [
      "\u001b[0;31m---------------------------------------------------------------------------\u001b[0m",
      "\u001b[0;31mTypeError\u001b[0m                                 Traceback (most recent call last)",
      "\u001b[0;32m/tmp/ipykernel_4268/399481251.py\u001b[0m in \u001b[0;36m<module>\u001b[0;34m\u001b[0m\n\u001b[1;32m      1\u001b[0m \u001b[0;31m# x.insert_values([1,2,3,4,5,6])\u001b[0m\u001b[0;34m\u001b[0m\u001b[0;34m\u001b[0m\u001b[0;34m\u001b[0m\u001b[0m\n\u001b[0;32m----> 2\u001b[0;31m \u001b[0mx\u001b[0m\u001b[0;34m.\u001b[0m\u001b[0minsatbeg\u001b[0m\u001b[0;34m(\u001b[0m\u001b[0;36m12\u001b[0m\u001b[0;34m)\u001b[0m\u001b[0;34m\u001b[0m\u001b[0;34m\u001b[0m\u001b[0m\n\u001b[0m\u001b[1;32m      3\u001b[0m \u001b[0mx\u001b[0m\u001b[0;34m.\u001b[0m\u001b[0minsatbeg\u001b[0m\u001b[0;34m(\u001b[0m\u001b[0;36m4324234\u001b[0m\u001b[0;34m)\u001b[0m\u001b[0;34m\u001b[0m\u001b[0;34m\u001b[0m\u001b[0m\n\u001b[1;32m      4\u001b[0m \u001b[0mx\u001b[0m\u001b[0;34m.\u001b[0m\u001b[0minsatend\u001b[0m\u001b[0;34m(\u001b[0m\u001b[0;36m43\u001b[0m\u001b[0;34m)\u001b[0m\u001b[0;34m\u001b[0m\u001b[0;34m\u001b[0m\u001b[0m\n",
      "\u001b[0;32m/tmp/ipykernel_4268/3030588457.py\u001b[0m in \u001b[0;36minsatbeg\u001b[0;34m(self, data)\u001b[0m\n\u001b[1;32m     11\u001b[0m     \u001b[0;32mdef\u001b[0m \u001b[0minsatbeg\u001b[0m\u001b[0;34m(\u001b[0m\u001b[0mself\u001b[0m\u001b[0;34m,\u001b[0m\u001b[0mdata\u001b[0m\u001b[0;34m)\u001b[0m\u001b[0;34m:\u001b[0m\u001b[0;34m\u001b[0m\u001b[0;34m\u001b[0m\u001b[0m\n\u001b[1;32m     12\u001b[0m         \u001b[0;32mif\u001b[0m \u001b[0mself\u001b[0m\u001b[0;34m.\u001b[0m\u001b[0mhead\u001b[0m \u001b[0;34m==\u001b[0m \u001b[0;32mNone\u001b[0m\u001b[0;34m:\u001b[0m\u001b[0;34m\u001b[0m\u001b[0;34m\u001b[0m\u001b[0m\n\u001b[0;32m---> 13\u001b[0;31m             \u001b[0mnode\u001b[0m \u001b[0;34m=\u001b[0m \u001b[0mNode\u001b[0m\u001b[0;34m(\u001b[0m\u001b[0mdata\u001b[0m\u001b[0;34m,\u001b[0m\u001b[0mself\u001b[0m\u001b[0;34m.\u001b[0m\u001b[0mhead\u001b[0m\u001b[0;34m,\u001b[0m\u001b[0;32mNone\u001b[0m\u001b[0;34m)\u001b[0m\u001b[0;34m\u001b[0m\u001b[0;34m\u001b[0m\u001b[0m\n\u001b[0m\u001b[1;32m     14\u001b[0m             \u001b[0mself\u001b[0m\u001b[0;34m.\u001b[0m\u001b[0mhead\u001b[0m \u001b[0;34m=\u001b[0m \u001b[0mnode\u001b[0m\u001b[0;34m\u001b[0m\u001b[0;34m\u001b[0m\u001b[0m\n\u001b[1;32m     15\u001b[0m         \u001b[0;32melse\u001b[0m\u001b[0;34m:\u001b[0m\u001b[0;34m\u001b[0m\u001b[0;34m\u001b[0m\u001b[0m\n",
      "\u001b[0;31mTypeError\u001b[0m: __init__() takes 3 positional arguments but 4 were given"
     ]
    }
   ],
   "source": [
    "# x.insert_values([1,2,3,4,5,6])\n",
    "x.insatbeg(12)\n",
    "x.insatbeg(4324234)\n",
    "x.insatend(43)"
   ]
  },
  {
   "cell_type": "code",
   "execution_count": null,
   "metadata": {},
   "outputs": [
    {
     "name": "stdout",
     "output_type": "stream",
     "text": [
      "4324234--->12--->43--->\n"
     ]
    }
   ],
   "source": [
    "x.printf()"
   ]
  },
  {
   "cell_type": "code",
   "execution_count": null,
   "metadata": {},
   "outputs": [
    {
     "name": "stdout",
     "output_type": "stream",
     "text": [
      "43\n"
     ]
    },
    {
     "data": {
      "text/plain": [
       "<__main__.Node at 0x7f22bb6f8460>"
      ]
     },
     "execution_count": 177,
     "metadata": {},
     "output_type": "execute_result"
    }
   ],
   "source": [
    "x.getlast()"
   ]
  },
  {
   "cell_type": "code",
   "execution_count": null,
   "metadata": {},
   "outputs": [
    {
     "name": "stdout",
     "output_type": "stream",
     "text": [
      "43\n",
      "43<---12<---4324234<---\n"
     ]
    }
   ],
   "source": [
    "x.printr()"
   ]
  },
  {
   "cell_type": "code",
   "execution_count": null,
   "metadata": {},
   "outputs": [
    {
     "data": {
      "text/plain": [
       "3"
      ]
     },
     "execution_count": 179,
     "metadata": {},
     "output_type": "execute_result"
    }
   ],
   "source": [
    "x.getlen()"
   ]
  },
  {
   "cell_type": "code",
   "execution_count": null,
   "metadata": {},
   "outputs": [],
   "source": [
    "x.insert_values([1,2,3,4,56])"
   ]
  },
  {
   "cell_type": "code",
   "execution_count": null,
   "metadata": {},
   "outputs": [
    {
     "name": "stdout",
     "output_type": "stream",
     "text": [
      "1--->2--->3--->4--->56--->\n"
     ]
    }
   ],
   "source": [
    "x.printf()\n"
   ]
  },
  {
   "cell_type": "code",
   "execution_count": null,
   "metadata": {},
   "outputs": [],
   "source": [
    "x.insertat('new insertion',4)"
   ]
  },
  {
   "cell_type": "code",
   "execution_count": null,
   "metadata": {},
   "outputs": [],
   "source": [
    "x.insertafterval(2,'new val')"
   ]
  },
  {
   "cell_type": "code",
   "execution_count": null,
   "metadata": {},
   "outputs": [],
   "source": [
    "x.removeat(3)"
   ]
  },
  {
   "cell_type": "code",
   "execution_count": null,
   "metadata": {},
   "outputs": [
    {
     "name": "stdout",
     "output_type": "stream",
     "text": [
      "1--->2--->new val--->3--->4--->new insertion--->56--->\n"
     ]
    }
   ],
   "source": [
    "x.printf()"
   ]
  }
 ],
 "metadata": {
  "interpreter": {
   "hash": "916dbcbb3f70747c44a77c7bcd40155683ae19c65e1c03b4aa3499c5328201f1"
  },
  "kernelspec": {
   "display_name": "Python 3.8.10 64-bit",
   "language": "python",
   "name": "python3"
  },
  "language_info": {
   "codemirror_mode": {
    "name": "ipython",
    "version": 3
   },
   "file_extension": ".py",
   "mimetype": "text/x-python",
   "name": "python",
   "nbconvert_exporter": "python",
   "pygments_lexer": "ipython3",
   "version": "3.8.10"
  },
  "orig_nbformat": 4
 },
 "nbformat": 4,
 "nbformat_minor": 2
}
