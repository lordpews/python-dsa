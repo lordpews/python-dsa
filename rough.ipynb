{
 "cells": [
  {
   "cell_type": "code",
   "execution_count": 11,
   "metadata": {},
   "outputs": [],
   "source": [
    "class Node:\n",
    "    def __init__(self,data,next):\n",
    "        self.data = data\n",
    "        self.next = next\n",
    "\n",
    "class Linkedlist:\n",
    "    def __init__(self):\n",
    "        self.head = None\n",
    "\n",
    "    def insatbeg(self,data):\n",
    "        node = Node(data,self.head)\n",
    "        self.head = node\n",
    "    \n",
    "    def insatend(self,data):\n",
    "        \n",
    "\n",
    "        if self.head == None:\n",
    "            self.head = Node(data,None)\n",
    "            return\n",
    "        else:\n",
    "            itr = self.head\n",
    "            while itr:   \n",
    "                if itr.next == None:\n",
    "                    itr.next = Node(data,None)\n",
    "        \n",
    "        itr = itr.next\n",
    "    def print(self):\n",
    "        itr = self.head\n",
    "        ll = ''\n",
    "        while itr:\n",
    "            ll += str(itr.data)+'--->'\n",
    "            itr = itr.next\n",
    "        print(ll)\n",
    "\n"
   ]
  },
  {
   "cell_type": "code",
   "execution_count": 12,
   "metadata": {},
   "outputs": [],
   "source": [
    "x = Linkedlist()"
   ]
  },
  {
   "cell_type": "code",
   "execution_count": 13,
   "metadata": {},
   "outputs": [],
   "source": [
    "x.insatbeg(23)\n",
    "x.insatbeg(24)\n",
    "x.insatbeg(25)\n",
    "x.insatbeg(26)"
   ]
  },
  {
   "cell_type": "code",
   "execution_count": 14,
   "metadata": {},
   "outputs": [
    {
     "name": "stdout",
     "output_type": "stream",
     "text": [
      "26--->25--->24--->23--->\n"
     ]
    }
   ],
   "source": [
    "x.print()"
   ]
  },
  {
   "cell_type": "code",
   "execution_count": null,
   "metadata": {},
   "outputs": [],
   "source": []
  }
 ],
 "metadata": {
  "interpreter": {
   "hash": "916dbcbb3f70747c44a77c7bcd40155683ae19c65e1c03b4aa3499c5328201f1"
  },
  "kernelspec": {
   "display_name": "Python 3.8.10 64-bit",
   "language": "python",
   "name": "python3"
  },
  "language_info": {
   "codemirror_mode": {
    "name": "ipython",
    "version": 3
   },
   "file_extension": ".py",
   "mimetype": "text/x-python",
   "name": "python",
   "nbconvert_exporter": "python",
   "pygments_lexer": "ipython3",
   "version": "3.8.10"
  },
  "orig_nbformat": 4
 },
 "nbformat": 4,
 "nbformat_minor": 2
}
