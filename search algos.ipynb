{
 "cells": [
  {
   "cell_type": "code",
   "execution_count": 39,
   "metadata": {},
   "outputs": [],
   "source": [
    "def bsearch(arr,l,r,s):\n",
    "    while l<=r:\n",
    "\n",
    "        mid = l + (r-l)//2\n",
    "\n",
    "        if arr[mid] == s:\n",
    "            return mid\n",
    "        elif arr[mid] < s:\n",
    "            l = mid+ 1\n",
    "        else:\n",
    "            r = mid-1\n",
    "    return -1\n",
    "    \n",
    "    "
   ]
  },
  {
   "cell_type": "code",
   "execution_count": 43,
   "metadata": {},
   "outputs": [],
   "source": [
    "arr = [1,2,3,4,5,6,7,8,9]\n",
    "s = 9\n"
   ]
  },
  {
   "cell_type": "code",
   "execution_count": 44,
   "metadata": {},
   "outputs": [],
   "source": [
    "res = bsearch(arr,0,len(arr)-1,s)"
   ]
  },
  {
   "cell_type": "code",
   "execution_count": 45,
   "metadata": {},
   "outputs": [
    {
     "name": "stdout",
     "output_type": "stream",
     "text": [
      "8\n"
     ]
    }
   ],
   "source": [
    "print(res)"
   ]
  },
  {
   "cell_type": "code",
   "execution_count": 20,
   "metadata": {},
   "outputs": [
    {
     "name": "stdout",
     "output_type": "stream",
     "text": [
      "Element is present at index  2\n"
     ]
    }
   ],
   "source": [
    "# # Python3 code to implement iterative Binary\n",
    "# # Search.\n",
    "\n",
    "# # It returns location of x in given array arr\n",
    "# # if present, else returns -1\n",
    "\n",
    "\n",
    "# def binarySearch(arr, l, r, x):\n",
    "\n",
    "# \twhile l <= r:\n",
    "\n",
    "# \t\tmid = l + (r - l) // 2\n",
    "\n",
    "# \t\t# Check if x is present at mid\n",
    "# \t\tif arr[mid] == x:\n",
    "# \t\t\treturn mid\n",
    "\n",
    "# \t\t# If x is greater, ignore left half\n",
    "# \t\telif arr[mid] < x:\n",
    "# \t\t\tl = mid + 1\n",
    "\n",
    "# \t\t# If x is smaller, ignore right half\n",
    "# \t\telse:\n",
    "# \t\t\tr = mid - 1\n",
    "\n",
    "# \t# If we reach here, then the element\n",
    "# \t# was not present\n",
    "# \treturn -1\n",
    "\n",
    "\n",
    "# # Driver Code\n",
    "\n",
    "# x = 3\n",
    "\n",
    "# # Function call\n",
    "# result = binarySearch(arr, 0, len(arr)-1, x)\n",
    "\n",
    "# if result != -1:\n",
    "# \tprint(\"Element is present at index % d\" % result)\n",
    "# else:\n",
    "# \tprint(\"Element is not present in array\")\n"
   ]
  },
  {
   "cell_type": "code",
   "execution_count": null,
   "metadata": {},
   "outputs": [],
   "source": []
  }
 ],
 "metadata": {
  "interpreter": {
   "hash": "916dbcbb3f70747c44a77c7bcd40155683ae19c65e1c03b4aa3499c5328201f1"
  },
  "kernelspec": {
   "display_name": "Python 3.8.10 64-bit",
   "language": "python",
   "name": "python3"
  },
  "language_info": {
   "codemirror_mode": {
    "name": "ipython",
    "version": 3
   },
   "file_extension": ".py",
   "mimetype": "text/x-python",
   "name": "python",
   "nbconvert_exporter": "python",
   "pygments_lexer": "ipython3",
   "version": "3.8.10"
  },
  "orig_nbformat": 4
 },
 "nbformat": 4,
 "nbformat_minor": 2
}
