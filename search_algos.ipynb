{
 "cells": [
  {
   "cell_type": "markdown",
   "metadata": {},
   "source": [
    "# Binary search\n",
    "\n",
    "# complexity = O(log n)"
   ]
  },
  {
   "cell_type": "code",
   "execution_count": 1,
   "metadata": {},
   "outputs": [],
   "source": [
    "def bsearch(arr,l,r,s):\n",
    "    while l<=r:\n",
    "        mid = l+(r-l)//2\n",
    "\n",
    "        if arr[mid]==s:\n",
    "            return mid\n",
    "        elif arr[mid]<s:\n",
    "            l = mid+1\n",
    "        else:\n",
    "            r= mid -1\n",
    "    return -1"
   ]
  },
  {
   "cell_type": "code",
   "execution_count": 23,
   "metadata": {},
   "outputs": [],
   "source": [
    "arr = [1,2,3,4,5,6,7,8,9]\n",
    "s =1\n"
   ]
  },
  {
   "cell_type": "code",
   "execution_count": 24,
   "metadata": {},
   "outputs": [],
   "source": [
    "res = bsearch(arr,0,len(arr)-1,s)"
   ]
  },
  {
   "cell_type": "code",
   "execution_count": 25,
   "metadata": {},
   "outputs": [
    {
     "name": "stdout",
     "output_type": "stream",
     "text": [
      "0\n"
     ]
    }
   ],
   "source": [
    "print(res)"
   ]
  },
  {
   "cell_type": "markdown",
   "metadata": {},
   "source": [
    "# Linear search\n",
    "\n",
    "# complexity = O(n)"
   ]
  },
  {
   "cell_type": "code",
   "execution_count": 26,
   "metadata": {},
   "outputs": [],
   "source": [
    "def lsearch(arr,s):\n",
    "    l = len(arr)\n",
    "    for i in range(l):\n",
    "        if arr[i] == s:\n",
    "            return i\n",
    "    return -1"
   ]
  },
  {
   "cell_type": "code",
   "execution_count": 27,
   "metadata": {},
   "outputs": [
    {
     "data": {
      "text/plain": [
       "6"
      ]
     },
     "execution_count": 27,
     "metadata": {},
     "output_type": "execute_result"
    }
   ],
   "source": [
    "lsearch(arr,7)"
   ]
  },
  {
   "cell_type": "markdown",
   "metadata": {},
   "source": [
    "# Sentinel Search"
   ]
  },
  {
   "cell_type": "code",
   "execution_count": 47,
   "metadata": {},
   "outputs": [],
   "source": [
    "def sentinelSearch(ar,n,l):\n",
    "    # ar : array\n",
    "    # n : item to be searched\n",
    "    # l : size of array\n",
    "    last = ar[l-1] # saving last element in other variable\n",
    "    print(ar[l-1])\n",
    "    ar[l-1] = n # assigning last element as required\n",
    "    print(ar[l-1])\n",
    "    i = 0\n",
    "    while ar[i]!=n:\n",
    "        i+=1\n",
    "    ar[l-1] = last\n",
    "    if (i<l-1) or n==ar[l-1]:\n",
    "        print('Item found at',i)\n",
    "    else:\n",
    "        print('Item not Found')"
   ]
  },
  {
   "cell_type": "code",
   "execution_count": 48,
   "metadata": {},
   "outputs": [
    {
     "name": "stdout",
     "output_type": "stream",
     "text": [
      "9\n",
      "10\n",
      "Item not Found\n"
     ]
    }
   ],
   "source": [
    "sentinelSearch(arr,10,9)"
   ]
  },
  {
   "cell_type": "markdown",
   "metadata": {},
   "source": [
    "# Interpolation search \n",
    "**better than binary search**\n",
    "# complexity O(log logn)\n",
    "\n",
    "<img src = '/home/piyush/Desktop/python-dsa/photo_2022-02-17_13-25-03.jpg'>"
   ]
  },
  {
   "cell_type": "code",
   "execution_count": 14,
   "metadata": {},
   "outputs": [],
   "source": [
    "def InterpolationSearch(data, key):\n",
    "    left = 0\n",
    "    right = len(data) - 1\n",
    "    while left < right:\n",
    "        idx = int( (right - left) * (key - data[left]) / (data[right] - data[left]) ) + left\n",
    "        if data[idx] is key:\n",
    "            return idx\n",
    "        elif data[idx] < key:\n",
    "            left = idx + 1\n",
    "        else:\n",
    "            right = idx - 1\n",
    "    return -1"
   ]
  },
  {
   "cell_type": "code",
   "execution_count": 23,
   "metadata": {},
   "outputs": [],
   "source": [
    "data = [2,3,4,5,6,7,8,9]\n",
    "key = 6"
   ]
  },
  {
   "cell_type": "code",
   "execution_count": 31,
   "metadata": {},
   "outputs": [],
   "source": [
    "def isearch(arr,s):\n",
    "    l = 0\n",
    "    r= len(arr)-1\n",
    "\n",
    "    while l<r:\n",
    "        id =int((r-l)*((s-arr[l])/(arr[r]-arr[l]))) + l\n",
    "        print(id)\n",
    "\n",
    "        if arr[id] == s:\n",
    "            return id\n",
    "        elif arr[id]<s:\n",
    "            l = id + 1\n",
    "        else:\n",
    "            r = id - 1\n",
    "    return -1"
   ]
  },
  {
   "cell_type": "code",
   "execution_count": 32,
   "metadata": {},
   "outputs": [
    {
     "name": "stdout",
     "output_type": "stream",
     "text": [
      "4\n"
     ]
    },
    {
     "data": {
      "text/plain": [
       "4"
      ]
     },
     "execution_count": 32,
     "metadata": {},
     "output_type": "execute_result"
    }
   ],
   "source": [
    "isearch(arr=data,s=key)"
   ]
  },
  {
   "cell_type": "code",
   "execution_count": 33,
   "metadata": {},
   "outputs": [
    {
     "data": {
      "text/plain": [
       "4"
      ]
     },
     "execution_count": 33,
     "metadata": {},
     "output_type": "execute_result"
    }
   ],
   "source": [
    "InterpolationSearch(data,key)"
   ]
  },
  {
   "cell_type": "code",
   "execution_count": null,
   "metadata": {},
   "outputs": [],
   "source": []
  }
 ],
 "metadata": {
  "interpreter": {
   "hash": "916dbcbb3f70747c44a77c7bcd40155683ae19c65e1c03b4aa3499c5328201f1"
  },
  "kernelspec": {
   "display_name": "Python 3.8.10 64-bit",
   "language": "python",
   "name": "python3"
  },
  "language_info": {
   "codemirror_mode": {
    "name": "ipython",
    "version": 3
   },
   "file_extension": ".py",
   "mimetype": "text/x-python",
   "name": "python",
   "nbconvert_exporter": "python",
   "pygments_lexer": "ipython3",
   "version": "3.8.10"
  },
  "orig_nbformat": 4
 },
 "nbformat": 4,
 "nbformat_minor": 2
}
