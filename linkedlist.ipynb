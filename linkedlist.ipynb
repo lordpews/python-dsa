{
 "cells": [
  {
   "cell_type": "code",
   "execution_count": 31,
   "metadata": {},
   "outputs": [],
   "source": [
    "# class Node:\n",
    "#     def __init__(self,data,next):\n",
    "#         self.data = data\n",
    "#         self.next = next\n",
    "\n",
    "# class LinkedList:\n",
    "#     def __init__(self):\n",
    "#         self.head = None\n",
    "\n",
    "#     def insatbeg(self,data):\n",
    "#         node = Node(data,self.head)\n",
    "#         self.head = node\n",
    "\n",
    "#     def insatend(self,data):\n",
    "#         if self.head == None:\n",
    "#             self.head = Node(data,None)\n",
    "#             return\n",
    "        \n",
    "#         else:\n",
    "#             itr = self.head\n",
    "            \n",
    "\n",
    "#             while itr.next:\n",
    "\n",
    "#                 itr = itr.next\n",
    "\n",
    "#             itr.next = Node(data,None)   \n",
    "#             return \n",
    "\n",
    "# # insatend loop will stop at a node before the itr.next = None\n",
    "# # then the line itr = itr.next will push it to the final node\n",
    "# # then we will set its next ie new last element as the new final/ending node with next = None\n",
    "\n",
    "#     def insert_values(self,data_list):\n",
    "#         self.head  == None\n",
    "\n",
    "#         for data in data_list:\n",
    "#             self.insatend(data)\n",
    "\n",
    "\n",
    "#     def get_length(self):\n",
    "#         count = 0\n",
    "#         itr = self.head\n",
    "#         while itr:\n",
    "#             itr = itr.next\n",
    "#             count += 1\n",
    "#         print(count)\n",
    "#         return\n",
    "\n",
    "    \n",
    "#     def remove_at(self,index):\n",
    "#         count = 0\n",
    "#         itr = self.head\n",
    "\n",
    "#         while itr:\n",
    "            \n",
    "#             itr = itr.next\n",
    "#             count += 1\n",
    "\n",
    "#             if count == index - 1:\n",
    "#                 itr.next = itr.next.next\n",
    "\n",
    "    \n",
    "#     def insat(self,data,index):\n",
    "#         count = 0\n",
    "#         itr = self.head\n",
    "\n",
    "#         while itr:\n",
    "#             itr = itr.next\n",
    "#             count +=1\n",
    "\n",
    "#             if count == index - 1:\n",
    "#                 itr.next = Node(data,itr.next)\n",
    "\n",
    "\n",
    "#     def printll(self):\n",
    "#         if self.head == None:\n",
    "#             return 'linked list is empty baka'\n",
    "\n",
    "#         else:\n",
    "#             itr = self.head\n",
    "#             ll = ''\n",
    "#             while itr:\n",
    "#                 ll += str(itr.data) + '---->'\n",
    "#                 itr = itr.next\n",
    "#             print(ll)\n",
    "\n",
    "#             return"
   ]
  },
  {
   "cell_type": "code",
   "execution_count": 43,
   "metadata": {},
   "outputs": [],
   "source": [
    "class Node:\n",
    "    def __init__(self,data,next):\n",
    "        self.data = data\n",
    "        self.next = next\n",
    "class LinkedList:\n",
    "    def __init__(self):\n",
    "        self.head = None\n",
    "\n",
    "    def insatbeg(self,data):\n",
    "        node = Node(data,self.head)\n",
    "        self.head = node\n",
    "    \n",
    "    def insatend(self,data):\n",
    "        if self.head == None:\n",
    "            self.head = Node(data,None)\n",
    "            return\n",
    "        \n",
    "        else:\n",
    "            itr = self.head\n",
    "            \n",
    "            while itr.next:\n",
    "                itr = itr.next\n",
    "\n",
    "            itr.next = Node(data,None)   \n",
    "            return\n",
    "    \n",
    "    def printll(self):\n",
    "        itr =  self.head\n",
    "        ll = ''\n",
    "        while itr:\n",
    "            ll += str(itr.data) + '--->'\n",
    "            itr = itr.next\n",
    "        print(ll)\n",
    "\n",
    "    def insert_values(self,data_list):\n",
    "        self.head = None\n",
    "        for data in data_list:\n",
    "            self.insatend(data)\n",
    "    \n",
    "    def get_length(self):\n",
    "        itr = self.head\n",
    "        count = 0\n",
    "        while itr:\n",
    "            count+=1\n",
    "            itr = itr.next\n",
    "        print(count)\n",
    "        return count\n",
    "\n",
    "    def insat(self,data,index):\n",
    "        if self.head == None:\n",
    "            return 'empty linked list baka'\n",
    "        \n",
    "        else:\n",
    "            count = 0\n",
    "            itr =  self.head\n",
    "            while itr:\n",
    "                count +=1\n",
    "                itr = itr.next\n",
    "                if count == index-1:\n",
    "                    itr.next = Node(data,itr.next)\n",
    "            return\n",
    "\n",
    "    def remove_at(self,index):\n",
    "        if self.head ==None:\n",
    "            return 'empty linked list baka'\n",
    "\n",
    "        else:\n",
    "            count = 0\n",
    "            itr = self.head\n",
    "            while itr:\n",
    "                count+=1\n",
    "                itr = itr.next\n",
    "                if count == index -1:\n",
    "                    itr.next = itr.next.next \n",
    "\n",
    "    def insafterval(self,val,dat):\n",
    "        itr = self.head\n",
    "        while itr:\n",
    "            itr = itr.next\n",
    "            if itr.data == val:\n",
    "                itr.next = Node(dat,itr.next)\n",
    "\n",
    "                break\n",
    "            \n",
    "        return\n",
    "\n",
    "    def remove_by_val(self,val):\n",
    "        itr = self.head\n",
    "        while itr.next:\n",
    "            if itr.next.data == val:\n",
    "                itr.next = itr.next.next\n",
    "                break\n",
    "            itr = itr.next\n"
   ]
  },
  {
   "cell_type": "code",
   "execution_count": 44,
   "metadata": {},
   "outputs": [],
   "source": [
    "x = LinkedList()"
   ]
  },
  {
   "cell_type": "code",
   "execution_count": 45,
   "metadata": {},
   "outputs": [],
   "source": [
    "\n",
    "x.insert_values(['ona','cona','dona','chona','lona'])"
   ]
  },
  {
   "cell_type": "code",
   "execution_count": 46,
   "metadata": {},
   "outputs": [],
   "source": [
    "x.remove_at(3)"
   ]
  },
  {
   "cell_type": "code",
   "execution_count": 47,
   "metadata": {},
   "outputs": [],
   "source": [
    "x.insat('new insertion',2)"
   ]
  },
  {
   "cell_type": "code",
   "execution_count": 48,
   "metadata": {},
   "outputs": [
    {
     "name": "stdout",
     "output_type": "stream",
     "text": [
      "ona--->cona--->new insertion--->dona--->lona--->\n"
     ]
    }
   ],
   "source": [
    "x.printll()"
   ]
  },
  {
   "cell_type": "code",
   "execution_count": 49,
   "metadata": {},
   "outputs": [
    {
     "name": "stdout",
     "output_type": "stream",
     "text": [
      "5\n"
     ]
    },
    {
     "data": {
      "text/plain": [
       "5"
      ]
     },
     "execution_count": 49,
     "metadata": {},
     "output_type": "execute_result"
    }
   ],
   "source": [
    "x.get_length()"
   ]
  },
  {
   "cell_type": "code",
   "execution_count": null,
   "metadata": {},
   "outputs": [],
   "source": []
  }
 ],
 "metadata": {
  "interpreter": {
   "hash": "916dbcbb3f70747c44a77c7bcd40155683ae19c65e1c03b4aa3499c5328201f1"
  },
  "kernelspec": {
   "display_name": "Python 3.8.10 64-bit",
   "language": "python",
   "name": "python3"
  },
  "language_info": {
   "codemirror_mode": {
    "name": "ipython",
    "version": 3
   },
   "file_extension": ".py",
   "mimetype": "text/x-python",
   "name": "python",
   "nbconvert_exporter": "python",
   "pygments_lexer": "ipython3",
   "version": "3.8.10"
  },
  "orig_nbformat": 4
 },
 "nbformat": 4,
 "nbformat_minor": 2
}
