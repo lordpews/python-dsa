{
 "cells": [
  {
   "cell_type": "code",
   "execution_count": null,
   "metadata": {},
   "outputs": [],
   "source": [
    "class Node:\n",
    "    def __init__(self,data,next = None) -> None:\n",
    "        self.data = data\n",
    "        self.next = next\n",
    "    \n",
    "class LinkedList:\n",
    "    def __init__(self) -> None:\n",
    "        self.head = None  #head idhar none dala but Node object use krenge hum yahaan\n",
    "\n",
    "    def insatbeg(self,data):\n",
    "        node = Node(data,self.head)\n",
    "        self.head = node  #naya node bnaya jiska next attribute point krega current head ko aur fir naye node ko current head bna diya\n",
    "\n",
    "    def printll(self):\n",
    "        if self.head == None:\n",
    "            return('empty linked list')\n",
    "        itr = self.head\n",
    "        llstr = ''\n",
    "\n",
    "        while itr:\n",
    "            llstr += str(itr.data) + '-->'\n",
    "            itr  = itr.next\n",
    "        return llstr\n",
    "    \n",
    "    def insatend(self,data):\n",
    "        if self.head == None:\n",
    "            self.head = Node(data,None)\n",
    "            return\n",
    "        \n",
    "        itr = self.head\n",
    "        while itr.next:\n",
    "            itr = itr.next\n",
    "\n",
    "        itr.next =  Node(data,None)            \n",
    "        return\n",
    "            \n",
    "\n",
    "        # insatend loop will stop at a node before the itr.next = None\n",
    "        # then the line itr = itr.next will push it to the final node\n",
    "        # then we will set its next ie new last element as the new final/ending node with next = None\n",
    "\n",
    "    def inslist(self,data_list):\n",
    "        for i in data_list:\n",
    "            self.insatend(i)\n",
    "        return\n",
    "    \n",
    "    def getlength(self):\n",
    "        if self.head == None:\n",
    "            return(\"empty list\")\n",
    "        itr = self.head\n",
    "        count = 0\n",
    "        while itr:\n",
    "            itr = itr.next\n",
    "            count+=1\n",
    "        return count\n",
    "    \n",
    "    def removeat(self,index):\n",
    "        itr = self.head\n",
    "        count = 0\n",
    "        while itr:\n",
    "                itr = itr.next\n",
    "                count += 1\n",
    "                if count == index - 1:\n",
    "                    itr.next =itr.next.next\n",
    "                    return\n",
    "    def insat(self,index,data):\n",
    "        if index == 0:\n",
    "            self.insatbeg(data)\n",
    "            return\n",
    "        if index == self.getlength():\n",
    "            self.insatend(data)\n",
    "            return\n",
    "        \n",
    "        count = 0 \n",
    "        itr = self.head\n",
    "\n",
    "        while itr:\n",
    "            itr = itr.next\n",
    "            count += 1\n",
    "            if count == index -1:\n",
    "                node = Node(data,itr.next)\n",
    "                itr.next = node\n",
    "                return\n",
    "\n",
    "\n",
    "ll = LinkedList()"
   ]
  },
  {
   "cell_type": "code",
   "execution_count": 39,
   "metadata": {},
   "outputs": [],
   "source": [
    "class Node:\n",
    "    def __init__(self,data,next) -> None:\n",
    "        self.data = data\n",
    "        self.next = next\n",
    "\n",
    "class LinkedList:\n",
    "    def __init__(self) -> None:\n",
    "        self.head = None\n",
    "\n",
    "    def insatbeg(self,data):\n",
    "        node  = Node(data,self.head)\n",
    "        self.head = node\n",
    "        return\n",
    "    \n",
    "    def insatend(self,data):\n",
    "        if self.head == None:\n",
    "            self.insatbeg(data)\n",
    "            return\n",
    "        \n",
    "        itr = self.head\n",
    "\n",
    "        while itr.next:\n",
    "            itr = itr.next\n",
    "        itr.next = Node(data,None)\n",
    "        return\n",
    "    \n",
    "    def printll(self):\n",
    "        itr = self.head\n",
    "        llstr = ''\n",
    "        while itr:\n",
    "            llstr += str(itr.data) + '-->'\n",
    "            itr = itr.next\n",
    "        return llstr\n",
    "\n",
    "    def getlength(self):\n",
    "        count  = 0\n",
    "        itr = self.head\n",
    "\n",
    "        while itr:\n",
    "            itr = itr.next\n",
    "            count +=1\n",
    "            \n",
    "        return count\n",
    "    \n",
    "    def inslist(self,data_list):\n",
    "        for i in data_list:\n",
    "            self.insatend(i)\n",
    "        return\n",
    "    \n",
    "    def insertat(self,data,index):\n",
    "        itr = self.head\n",
    "        count = 0\n",
    "        while itr:\n",
    "            itr = itr.next\n",
    "            count +=1\n",
    "            ll = LinkedList()\n",
    "            if count == index - 1:\n",
    "                itr.next = Node(data,itr.next)\n",
    "                return\n",
    "    \n",
    "    def removeat(self,index):\n",
    "        itr  = self.head\n",
    "        count = 0\n",
    "        while itr:\n",
    "            itr =itr.next\n",
    "            count +=1\n",
    "            if count == index -1:\n",
    "                itr.next = itr.next.next\n",
    "            return\n",
    "        \n",
    "    def insertafterval(self,value,data):\n",
    "        itr =self.head\n",
    "        while itr:\n",
    "            if itr.data == value:\n",
    "                itr.next = Node(data,itr.next)\n",
    "                return\n",
    "            itr = itr.next\n",
    "\n",
    "    def remove_by_val(self,data):\n",
    "        itr = self.head\n",
    "        while itr:\n",
    "            if itr.next.data == data:\n",
    "                itr.next = itr.next.next\n",
    "                return\n",
    "            itr = itr.next\n",
    "            \n",
    "    \n",
    "    \n",
    "ll = LinkedList()  \n"
   ]
  },
  {
   "cell_type": "code",
   "execution_count": null,
   "metadata": {},
   "outputs": [],
   "source": []
  },
  {
   "cell_type": "code",
   "execution_count": null,
   "metadata": {},
   "outputs": [],
   "source": [
    "ll.head = Node(1,None)"
   ]
  },
  {
   "cell_type": "code",
   "execution_count": null,
   "metadata": {},
   "outputs": [],
   "source": [
    "ll.insatbeg(1)\n",
    "ll.insatbeg(613232)\n",
    "ll.insatbeg(155)\n",
    "ll.insatbeg(551)\n",
    "print(ll.printll())"
   ]
  },
  {
   "cell_type": "code",
   "execution_count": null,
   "metadata": {},
   "outputs": [],
   "source": [
    "ll.insatend('last value 1')"
   ]
  },
  {
   "cell_type": "code",
   "execution_count": 40,
   "metadata": {},
   "outputs": [],
   "source": [
    "list = ['first','second','third','last']\n",
    "ll.inslist(list)"
   ]
  },
  {
   "cell_type": "code",
   "execution_count": 18,
   "metadata": {},
   "outputs": [],
   "source": [
    "ll.insertat('should be at index 2',2)"
   ]
  },
  {
   "cell_type": "code",
   "execution_count": 30,
   "metadata": {},
   "outputs": [],
   "source": [
    "ll.insertafterval('second',\"should be next to second\")"
   ]
  },
  {
   "cell_type": "code",
   "execution_count": 43,
   "metadata": {},
   "outputs": [],
   "source": [
    "ll.remove_by_val('third')"
   ]
  },
  {
   "cell_type": "code",
   "execution_count": 44,
   "metadata": {},
   "outputs": [
    {
     "name": "stdout",
     "output_type": "stream",
     "text": [
      "first-->second-->last-->\n"
     ]
    }
   ],
   "source": [
    "print(ll.printll())"
   ]
  },
  {
   "cell_type": "code",
   "execution_count": 20,
   "metadata": {},
   "outputs": [],
   "source": [
    "ll.removeat(2)"
   ]
  },
  {
   "cell_type": "code",
   "execution_count": null,
   "metadata": {},
   "outputs": [],
   "source": [
    "ll.getlength()"
   ]
  },
  {
   "cell_type": "code",
   "execution_count": null,
   "metadata": {},
   "outputs": [],
   "source": [
    "ll.removeat(2)"
   ]
  },
  {
   "cell_type": "code",
   "execution_count": null,
   "metadata": {},
   "outputs": [],
   "source": []
  }
 ],
 "metadata": {
  "kernelspec": {
   "display_name": "Python 3",
   "language": "python",
   "name": "python3"
  },
  "language_info": {
   "codemirror_mode": {
    "name": "ipython",
    "version": 3
   },
   "file_extension": ".py",
   "mimetype": "text/x-python",
   "name": "python",
   "nbconvert_exporter": "python",
   "pygments_lexer": "ipython3",
   "version": "3.11.3"
  },
  "orig_nbformat": 4
 },
 "nbformat": 4,
 "nbformat_minor": 2
}
