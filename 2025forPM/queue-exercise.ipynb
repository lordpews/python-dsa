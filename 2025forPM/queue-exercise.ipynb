{
 "cells": [
  {
   "cell_type": "code",
   "execution_count": 6,
   "id": "eb6e1795",
   "metadata": {},
   "outputs": [
    {
     "name": "stdout",
     "output_type": "stream",
     "text": [
      "placed order for pizza\n",
      "served pizza\n",
      "placed order for samosa\n",
      "placed order for pasta\n",
      "placed order for biryani\n",
      "placed order for burger\n",
      "served samosa\n",
      "served pasta\n",
      "served biryani\n",
      "served burger\n"
     ]
    },
    {
     "name": "stderr",
     "output_type": "stream",
     "text": [
      "Exception in thread Thread-29 (serveorder):\n",
      "Traceback (most recent call last):\n",
      "  File \"/usr/lib/python3.12/threading.py\", line 1073, in _bootstrap_inner\n",
      "    self.run()\n",
      "  File \"/home/pews/.local/lib/python3.12/site-packages/ipykernel/ipkernel.py\", line 766, in run_closure\n",
      "    _threading_Thread_run(self)\n",
      "  File \"/usr/lib/python3.12/threading.py\", line 1010, in run\n",
      "    self._target(*self._args, **self._kwargs)\n",
      "  File \"/tmp/ipykernel_6099/956064944.py\", line 15, in serveorder\n",
      "IndexError: pop from an empty deque\n"
     ]
    },
    {
     "name": "stdout",
     "output_type": "stream",
     "text": [
      "deque([])\n"
     ]
    }
   ],
   "source": [
    "import time,threading\n",
    "from collections import deque\n",
    "\n",
    "\n",
    "q  = deque()\n",
    "\n",
    "def placeorder(val):\n",
    "    for item in val:\n",
    "        time.sleep(0.5)\n",
    "        q.appendleft(item)\n",
    "        print(\"placed order for\",item)\n",
    "\n",
    "def serveorder(val):\n",
    "    while len(val) != 0:\n",
    "        print(\"served\",q.pop())\n",
    "        time.sleep(2)\n",
    "orders = ['pizza','samosa','pasta','biryani','burger']\n",
    "t1 = threading.Thread(target=placeorder,args=(orders,))\n",
    "t2 = threading.Thread(target=serveorder,args=(orders,))\n",
    "\n",
    "t1.start()\n",
    "time.sleep(1)\n",
    "t2.start()\n",
    "t1.join()\n",
    "t2.join()\n",
    "print(q)\n"
   ]
  },
  {
   "cell_type": "code",
   "execution_count": 9,
   "id": "a98cbb28",
   "metadata": {},
   "outputs": [
    {
     "name": "stdout",
     "output_type": "stream",
     "text": [
      "orderd pizza\n",
      "orderd samosa\n",
      "orderd pasta\n",
      "served pizza\n",
      "orderd biryani\n",
      "orderd burger\n",
      "served samosa\n",
      "served pasta\n",
      "served biryani\n",
      "served burger\n"
     ]
    }
   ],
   "source": [
    "import time,threading\n",
    "\n",
    "class Queue:\n",
    "    def __init__(self):\n",
    "        from collections import deque\n",
    "        self.buffer = deque()\n",
    "\n",
    "    def enque(self,val):\n",
    "        self.buffer.appendleft(val)\n",
    "\n",
    "    def dequeue(self):\n",
    "        return self.buffer.pop()\n",
    "\n",
    "    def size(self):\n",
    "        return len(self.buffer)\n",
    "\n",
    "    def is_empty(self):\n",
    "        return (len(self.buffer) == 0)\n",
    "    \n",
    "orders = ['pizza','samosa','pasta','biryani','burger']\n",
    "q = Queue()\n",
    "def order(orders):\n",
    "    for item in orders:\n",
    "        q.enque(item)\n",
    "        print(\"orderd\",item)\n",
    "        time.sleep(0.5)\n",
    "\n",
    "def serve():\n",
    "    time.sleep(1)\n",
    "    while not q.is_empty():\n",
    "        o = q.dequeue()\n",
    "        print(\"served\",o)\n",
    "        time.sleep(2)\n",
    "\n",
    "t1 = threading.Thread(target=order,args=(orders,))\n",
    "t2 = threading.Thread(target=serve)\n",
    "\n",
    "t1.start()\n",
    "t2.start()\n",
    "t1.join()\n",
    "t2.join()\n",
    "\n",
    "        \n"
   ]
  },
  {
   "cell_type": "code",
   "execution_count": 12,
   "id": "3d1b3f91",
   "metadata": {},
   "outputs": [],
   "source": [
    "class Queue:\n",
    "    def __init__(self):\n",
    "        from collections import deque\n",
    "        self.buffer = deque()\n",
    "\n",
    "    def enque(self,val):\n",
    "        self.buffer.appendleft(val)\n",
    "\n",
    "    def dequeue(self):\n",
    "        return self.buffer.pop()\n",
    "\n",
    "    def size(self):\n",
    "        return len(self.buffer)\n",
    "\n",
    "    def is_empty(self):\n",
    "        return (len(self.buffer) == 0)\n",
    "    \n",
    "    def front(self):\n",
    "        return (self.buffer[-1])\n"
   ]
  },
  {
   "cell_type": "code",
   "execution_count": 13,
   "id": "d6f88a57",
   "metadata": {},
   "outputs": [],
   "source": [
    "q = Queue()"
   ]
  },
  {
   "cell_type": "code",
   "execution_count": 14,
   "id": "685659ca",
   "metadata": {},
   "outputs": [],
   "source": [
    "for i in range(10):\n",
    "    q.enque(i)"
   ]
  },
  {
   "cell_type": "code",
   "execution_count": 15,
   "id": "5a49dfff",
   "metadata": {},
   "outputs": [
    {
     "data": {
      "text/plain": [
       "deque([9, 8, 7, 6, 5, 4, 3, 2, 1, 0])"
      ]
     },
     "execution_count": 15,
     "metadata": {},
     "output_type": "execute_result"
    }
   ],
   "source": [
    "q.buffer"
   ]
  },
  {
   "cell_type": "code",
   "execution_count": 16,
   "id": "92a4f93f",
   "metadata": {},
   "outputs": [
    {
     "data": {
      "text/plain": [
       "0"
      ]
     },
     "execution_count": 16,
     "metadata": {},
     "output_type": "execute_result"
    }
   ],
   "source": [
    "q.front()"
   ]
  },
  {
   "cell_type": "code",
   "execution_count": null,
   "id": "bf7c5f05",
   "metadata": {},
   "outputs": [],
   "source": [
    "def seq():\n",
    "    b = Queue()\n",
    "    b.enque('1')\n",
    "    for i in range(10):\n",
    "        if b.front().endswith('1'):\n",
    "            b.enque(b.front()+'0')"
   ]
  }
 ],
 "metadata": {
  "kernelspec": {
   "display_name": "Python 3",
   "language": "python",
   "name": "python3"
  },
  "language_info": {
   "codemirror_mode": {
    "name": "ipython",
    "version": 3
   },
   "file_extension": ".py",
   "mimetype": "text/x-python",
   "name": "python",
   "nbconvert_exporter": "python",
   "pygments_lexer": "ipython3",
   "version": "3.12.3"
  }
 },
 "nbformat": 4,
 "nbformat_minor": 5
}
