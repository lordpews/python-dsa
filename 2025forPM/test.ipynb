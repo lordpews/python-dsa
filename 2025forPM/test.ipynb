{
 "cells": [
  {
   "cell_type": "code",
   "execution_count": 32,
   "id": "7a091fd9",
   "metadata": {},
   "outputs": [],
   "source": [
    "class Hashtable:\n",
    "    def __init__(self,max):\n",
    "        self.max = max\n",
    "        self.arr = [[] for i in range(self.max) ]\n",
    "\n",
    "        \n",
    "    def get_hash(self, key):\n",
    "        hash = 0\n",
    "        for i in key:\n",
    "            hash +=ord(i)\n",
    "        return hash%self.max\n",
    "    \n",
    "    def __getitem__(self, key):\n",
    "        index = self.get_hash(key)\n",
    "        for element in self.arr[index]:\n",
    "            if element[0] == key:\n",
    "                return element[1]\n",
    "        return\n",
    "            \n",
    "    def __setitem__(self, key, val):\n",
    "        index = self.get_hash(key)\n",
    "        for i,element in enumerate(self.arr[index]):\n",
    "            if len(element) == 2 and element[0] == key:\n",
    "                self.arr[index][i] = [key,val]\n",
    "                return\n",
    "        self.arr[index].append([key,val])\n",
    "\n",
    "        \n",
    "    def __delitem__(self, key):\n",
    "        index =  self.get_hash(key)\n",
    "        for i,element in enumerate(self.arr[index]):\n",
    "            if element[0] == key:\n",
    "                del self.arr[index][i]\n",
    "                return"
   ]
  },
  {
   "cell_type": "code",
   "execution_count": 33,
   "id": "5c42357a",
   "metadata": {},
   "outputs": [],
   "source": [
    "t = Hashtable(10)\n",
    "\n",
    "t['march 6'] = 'giganigga'\n",
    "t['march 17']  = 'ArithmeticError'\n",
    "t['march 11'] = 'A43if dfror'"
   ]
  },
  {
   "cell_type": "code",
   "execution_count": 34,
   "id": "511809a2",
   "metadata": {},
   "outputs": [
    {
     "data": {
      "text/plain": [
       "[[],\n",
       " [],\n",
       " [],\n",
       " [['march 11', 'A43if dfror']],\n",
       " [],\n",
       " [],\n",
       " [],\n",
       " [],\n",
       " [],\n",
       " [['march 6', 'giganigga'], ['march 17', 'ArithmeticError']]]"
      ]
     },
     "execution_count": 34,
     "metadata": {},
     "output_type": "execute_result"
    }
   ],
   "source": [
    "t.arr"
   ]
  },
  {
   "cell_type": "code",
   "execution_count": 35,
   "id": "9b7dcc28",
   "metadata": {},
   "outputs": [],
   "source": [
    "t['march 6']  = 'iggibiggi'"
   ]
  },
  {
   "cell_type": "code",
   "execution_count": 36,
   "id": "a231a453",
   "metadata": {},
   "outputs": [
    {
     "data": {
      "text/plain": [
       "'iggibiggi'"
      ]
     },
     "execution_count": 36,
     "metadata": {},
     "output_type": "execute_result"
    }
   ],
   "source": [
    "t['march 6']"
   ]
  },
  {
   "cell_type": "code",
   "execution_count": 39,
   "id": "86bb5a22",
   "metadata": {},
   "outputs": [
    {
     "data": {
      "text/plain": [
       "[[],\n",
       " [],\n",
       " [],\n",
       " [['march 11', 'A43if dfror']],\n",
       " [],\n",
       " [],\n",
       " [],\n",
       " [],\n",
       " [],\n",
       " [['march 17', 'ArithmeticError']]]"
      ]
     },
     "execution_count": 39,
     "metadata": {},
     "output_type": "execute_result"
    }
   ],
   "source": [
    "t.arr"
   ]
  },
  {
   "cell_type": "code",
   "execution_count": 38,
   "id": "0a4ed01f",
   "metadata": {},
   "outputs": [],
   "source": [
    "t.__delitem__('march 6')"
   ]
  },
  {
   "cell_type": "code",
   "execution_count": null,
   "id": "622b82e2",
   "metadata": {},
   "outputs": [],
   "source": []
  }
 ],
 "metadata": {
  "kernelspec": {
   "display_name": "Python 3",
   "language": "python",
   "name": "python3"
  },
  "language_info": {
   "codemirror_mode": {
    "name": "ipython",
    "version": 3
   },
   "file_extension": ".py",
   "mimetype": "text/x-python",
   "name": "python",
   "nbconvert_exporter": "python",
   "pygments_lexer": "ipython3",
   "version": "3.12.3"
  }
 },
 "nbformat": 4,
 "nbformat_minor": 5
}
