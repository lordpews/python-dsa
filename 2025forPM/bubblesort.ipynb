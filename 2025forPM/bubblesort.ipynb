{
 "cells": [
  {
   "cell_type": "code",
   "execution_count": 12,
   "id": "02b2f597",
   "metadata": {},
   "outputs": [],
   "source": [
    "arr =[5,4,1,0,6,2,5,1]"
   ]
  },
  {
   "cell_type": "code",
   "execution_count": 16,
   "id": "fccb98c0",
   "metadata": {},
   "outputs": [
    {
     "name": "stdout",
     "output_type": "stream",
     "text": [
      "[0, 1, 1, 2, 4, 5, 5, 6]\n",
      "[0, 1, 1, 2, 4, 5, 5, 6]\n",
      "[0, 1, 1, 2, 4, 5, 5, 6]\n",
      "[0, 1, 1, 2, 4, 5, 5, 6]\n",
      "[0, 1, 1, 2, 4, 5, 5, 6]\n",
      "[0, 1, 1, 2, 4, 5, 5, 6]\n",
      "[0, 1, 1, 2, 4, 5, 5, 6]\n",
      "[0, 1, 1, 2, 4, 5, 5, 6]\n",
      "[0, 1, 1, 2, 4, 5, 5, 6]\n",
      "[0, 1, 1, 2, 4, 5, 5, 6]\n",
      "[0, 1, 1, 2, 4, 5, 5, 6]\n",
      "[0, 1, 1, 2, 4, 5, 5, 6]\n",
      "[0, 1, 1, 2, 4, 5, 5, 6]\n",
      "[0, 1, 1, 2, 4, 5, 5, 6]\n",
      "[0, 1, 1, 2, 4, 5, 5, 6]\n",
      "[0, 1, 1, 2, 4, 5, 5, 6]\n",
      "[0, 1, 1, 2, 4, 5, 5, 6]\n",
      "[0, 1, 1, 2, 4, 5, 5, 6]\n",
      "[0, 1, 1, 2, 4, 5, 5, 6]\n",
      "[0, 1, 1, 2, 4, 5, 5, 6]\n",
      "[0, 1, 1, 2, 4, 5, 5, 6]\n",
      "[0, 1, 1, 2, 4, 5, 5, 6]\n",
      "[0, 1, 1, 2, 4, 5, 5, 6]\n",
      "[0, 1, 1, 2, 4, 5, 5, 6]\n",
      "[0, 1, 1, 2, 4, 5, 5, 6]\n",
      "[0, 1, 1, 2, 4, 5, 5, 6]\n",
      "[0, 1, 1, 2, 4, 5, 5, 6]\n",
      "[0, 1, 1, 2, 4, 5, 5, 6]\n",
      "[0, 1, 1, 2, 4, 5, 5, 6]\n",
      "[0, 1, 1, 2, 4, 5, 5, 6]\n",
      "[0, 1, 1, 2, 4, 5, 5, 6]\n",
      "[0, 1, 1, 2, 4, 5, 5, 6]\n",
      "[0, 1, 1, 2, 4, 5, 5, 6]\n",
      "[0, 1, 1, 2, 4, 5, 5, 6]\n",
      "[0, 1, 1, 2, 4, 5, 5, 6]\n",
      "[0, 1, 1, 2, 4, 5, 5, 6]\n",
      "[0, 1, 1, 2, 4, 5, 5, 6]\n",
      "[0, 1, 1, 2, 4, 5, 5, 6]\n",
      "[0, 1, 1, 2, 4, 5, 5, 6]\n",
      "[0, 1, 1, 2, 4, 5, 5, 6]\n",
      "[0, 1, 1, 2, 4, 5, 5, 6]\n",
      "[0, 1, 1, 2, 4, 5, 5, 6]\n",
      "[0, 1, 1, 2, 4, 5, 5, 6]\n",
      "[0, 1, 1, 2, 4, 5, 5, 6]\n",
      "[0, 1, 1, 2, 4, 5, 5, 6]\n",
      "[0, 1, 1, 2, 4, 5, 5, 6]\n",
      "[0, 1, 1, 2, 4, 5, 5, 6]\n",
      "[0, 1, 1, 2, 4, 5, 5, 6]\n",
      "[0, 1, 1, 2, 4, 5, 5, 6]\n"
     ]
    }
   ],
   "source": [
    "for k in range(len(arr)-1):    \n",
    "    for i in range(len(arr)-1):\n",
    "        print(arr)\n",
    "        if arr[i] > arr[i+1]:\n",
    "            print(\"swapping\",arr[i],arr[i+1])\n",
    "            arr[i],arr[i+1] = arr[i+1],arr[i]\n",
    "    "
   ]
  },
  {
   "cell_type": "code",
   "execution_count": 11,
   "id": "afa8e786",
   "metadata": {},
   "outputs": [
    {
     "data": {
      "text/plain": [
       "[0, 1, 1, 2, 4, 5, 5, 6]"
      ]
     },
     "execution_count": 11,
     "metadata": {},
     "output_type": "execute_result"
    }
   ],
   "source": [
    "arr"
   ]
  },
  {
   "cell_type": "code",
   "execution_count": null,
   "id": "f72199e4",
   "metadata": {},
   "outputs": [],
   "source": []
  }
 ],
 "metadata": {
  "kernelspec": {
   "display_name": "Python 3",
   "language": "python",
   "name": "python3"
  },
  "language_info": {
   "codemirror_mode": {
    "name": "ipython",
    "version": 3
   },
   "file_extension": ".py",
   "mimetype": "text/x-python",
   "name": "python",
   "nbconvert_exporter": "python",
   "pygments_lexer": "ipython3",
   "version": "3.12.3"
  }
 },
 "nbformat": 4,
 "nbformat_minor": 5
}
