{
 "cells": [
  {
   "cell_type": "code",
   "execution_count": 2,
   "id": "295904ff",
   "metadata": {},
   "outputs": [],
   "source": [
    "from collections import deque\n",
    "q =deque()"
   ]
  },
  {
   "cell_type": "code",
   "execution_count": 3,
   "id": "5a6c69fa",
   "metadata": {},
   "outputs": [
    {
     "data": {
      "text/plain": [
       "deque([])"
      ]
     },
     "execution_count": 3,
     "metadata": {},
     "output_type": "execute_result"
    }
   ],
   "source": [
    "q"
   ]
  },
  {
   "cell_type": "code",
   "execution_count": 16,
   "id": "687dcda7",
   "metadata": {},
   "outputs": [],
   "source": [
    "class queue:\n",
    "    def __init__(self):\n",
    "        from collections import deque\n",
    "        self.queue =  deque()\n",
    "\n",
    "    def enque(self,val):\n",
    "        self.queue.appendleft(val)\n",
    "\n",
    "    def deque(self):\n",
    "        return self.queue.pop()\n",
    "    \n",
    "    def peek(self):\n",
    "        return self.queue[0]\n",
    "    \n",
    "    def isempty(self):\n",
    "        return (len(self.queue) == 0)\n",
    "    \n",
    "    def size(self):\n",
    "        return len(self.queue)"
   ]
  },
  {
   "cell_type": "code",
   "execution_count": 17,
   "id": "f8aff380",
   "metadata": {},
   "outputs": [],
   "source": [
    "q = queue()"
   ]
  },
  {
   "cell_type": "code",
   "execution_count": 18,
   "id": "017db4fe",
   "metadata": {},
   "outputs": [
    {
     "data": {
      "text/plain": [
       "deque([10, 9, 8, 7, 6, 5, 4, 3, 2, 1])"
      ]
     },
     "execution_count": 18,
     "metadata": {},
     "output_type": "execute_result"
    }
   ],
   "source": [
    "for i in range(10):\n",
    "    q.enque(i+1)\n",
    "q.queue"
   ]
  },
  {
   "cell_type": "code",
   "execution_count": 19,
   "id": "2e531558",
   "metadata": {},
   "outputs": [
    {
     "data": {
      "text/plain": [
       "deque([10, 9, 8, 7, 6, 5, 4, 3, 2])"
      ]
     },
     "execution_count": 19,
     "metadata": {},
     "output_type": "execute_result"
    }
   ],
   "source": [
    "q.deque()\n",
    "q.queue"
   ]
  },
  {
   "cell_type": "code",
   "execution_count": 20,
   "id": "95cf79d0",
   "metadata": {},
   "outputs": [
    {
     "data": {
      "text/plain": [
       "10"
      ]
     },
     "execution_count": 20,
     "metadata": {},
     "output_type": "execute_result"
    }
   ],
   "source": [
    "q.peek()"
   ]
  },
  {
   "cell_type": "code",
   "execution_count": 21,
   "id": "bbfb5741",
   "metadata": {},
   "outputs": [
    {
     "data": {
      "text/plain": [
       "False"
      ]
     },
     "execution_count": 21,
     "metadata": {},
     "output_type": "execute_result"
    }
   ],
   "source": [
    "q.isempty()"
   ]
  },
  {
   "cell_type": "code",
   "execution_count": null,
   "id": "550add23",
   "metadata": {},
   "outputs": [],
   "source": []
  }
 ],
 "metadata": {
  "kernelspec": {
   "display_name": "Python 3",
   "language": "python",
   "name": "python3"
  },
  "language_info": {
   "codemirror_mode": {
    "name": "ipython",
    "version": 3
   },
   "file_extension": ".py",
   "mimetype": "text/x-python",
   "name": "python",
   "nbconvert_exporter": "python",
   "pygments_lexer": "ipython3",
   "version": "3.12.3"
  }
 },
 "nbformat": 4,
 "nbformat_minor": 5
}
