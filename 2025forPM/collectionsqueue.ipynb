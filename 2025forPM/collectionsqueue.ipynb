{
 "cells": [
  {
   "cell_type": "code",
   "execution_count": 2,
   "id": "295904ff",
   "metadata": {},
   "outputs": [],
   "source": [
    "from collections import deque\n",
    "q =deque()"
   ]
  },
  {
   "cell_type": "code",
   "execution_count": 3,
   "id": "5a6c69fa",
   "metadata": {},
   "outputs": [
    {
     "data": {
      "text/plain": [
       "deque([])"
      ]
     },
     "execution_count": 3,
     "metadata": {},
     "output_type": "execute_result"
    }
   ],
   "source": [
    "q"
   ]
  },
  {
   "cell_type": "code",
   "execution_count": 8,
   "id": "687dcda7",
   "metadata": {},
   "outputs": [],
   "source": [
    "class queue:\n",
    "    def __init__(self):\n",
    "        from collections import deque\n",
    "        self.queue =  deque()\n",
    "\n",
    "    def enque(self,val):\n",
    "        self.queue.appendleft(val)\n",
    "\n",
    "    def deque(self):\n",
    "        return self.queue.pop()\n",
    "    \n",
    "    def peek(self):\n",
    "        return self.queue[0]\n",
    "    \n",
    "    def isempty(self):\n",
    "        return (self.queue.size() == 0)\n",
    "    \n",
    "    def size(self):\n",
    "        return len(self.queue)"
   ]
  },
  {
   "cell_type": "code",
   "execution_count": 9,
   "id": "f8aff380",
   "metadata": {},
   "outputs": [],
   "source": [
    "q = queue()"
   ]
  },
  {
   "cell_type": "code",
   "execution_count": 11,
   "id": "017db4fe",
   "metadata": {},
   "outputs": [
    {
     "data": {
      "text/plain": [
       "deque([10, 9, 8, 7, 6, 5, 4, 3, 2, 1])"
      ]
     },
     "execution_count": 11,
     "metadata": {},
     "output_type": "execute_result"
    }
   ],
   "source": [
    "for i in range(10):\n",
    "    q.enque(i+1)\n",
    "q.queue"
   ]
  },
  {
   "cell_type": "code",
   "execution_count": null,
   "id": "2e531558",
   "metadata": {},
   "outputs": [
    {
     "ename": "AttributeError",
     "evalue": "'queue' object has no attribute 'pop'",
     "output_type": "error",
     "traceback": [
      "\u001b[31m---------------------------------------------------------------------------\u001b[39m",
      "\u001b[31mAttributeError\u001b[39m                            Traceback (most recent call last)",
      "\u001b[36mCell\u001b[39m\u001b[36m \u001b[39m\u001b[32mIn[12]\u001b[39m\u001b[32m, line 1\u001b[39m\n\u001b[32m----> \u001b[39m\u001b[32m1\u001b[39m \u001b[43mq\u001b[49m\u001b[43m.\u001b[49m\u001b[43mpop\u001b[49m()\n\u001b[32m      2\u001b[39m q.queue\n",
      "\u001b[31mAttributeError\u001b[39m: 'queue' object has no attribute 'pop'"
     ]
    }
   ],
   "source": [
    "q.deque()\n",
    "q.queue"
   ]
  },
  {
   "cell_type": "code",
   "execution_count": 7,
   "id": "95cf79d0",
   "metadata": {},
   "outputs": [
    {
     "data": {
      "text/plain": [
       "10"
      ]
     },
     "execution_count": 7,
     "metadata": {},
     "output_type": "execute_result"
    }
   ],
   "source": [
    "q.peek()"
   ]
  },
  {
   "cell_type": "code",
   "execution_count": null,
   "id": "bbfb5741",
   "metadata": {},
   "outputs": [],
   "source": []
  }
 ],
 "metadata": {
  "kernelspec": {
   "display_name": "Python 3",
   "language": "python",
   "name": "python3"
  },
  "language_info": {
   "codemirror_mode": {
    "name": "ipython",
    "version": 3
   },
   "file_extension": ".py",
   "mimetype": "text/x-python",
   "name": "python",
   "nbconvert_exporter": "python",
   "pygments_lexer": "ipython3",
   "version": "3.12.3"
  }
 },
 "nbformat": 4,
 "nbformat_minor": 5
}
