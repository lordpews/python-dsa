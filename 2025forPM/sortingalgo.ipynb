{
 "cells": [
  {
   "cell_type": "code",
   "execution_count": 1,
   "id": "97c9186c",
   "metadata": {},
   "outputs": [],
   "source": [
    "def bubblesort(nums):\n",
    "    for i in range(len(nums)):\n",
    "        for j in range(len(nums)-i-1):\n",
    "            if nums[j] > nums[j+1]:\n",
    "                nums[j],nums[j+1] = nums[j+1],nums[j]\n",
    "\n",
    "    print(nums)"
   ]
  },
  {
   "cell_type": "code",
   "execution_count": 2,
   "id": "250b5a65",
   "metadata": {},
   "outputs": [
    {
     "name": "stdout",
     "output_type": "stream",
     "text": [
      "[0, 1, 2, 2, 4, 5, 6, 8]\n"
     ]
    }
   ],
   "source": [
    "bubblesort([4,2,5,6,1,2,0,8])"
   ]
  },
  {
   "cell_type": "code",
   "execution_count": 14,
   "id": "1d0a8309",
   "metadata": {},
   "outputs": [],
   "source": [
    "def quicksort(nums):\n",
    "    if len(nums) <= 1:\n",
    "        return nums\n",
    "    pivot = nums[0]\n",
    "    \n",
    "    left = [x for x in nums[1:] if x < pivot]\n",
    "    right = [x for x in nums[1:] if x > pivot]\n",
    "        \n",
    "\n",
    "    return quicksort(left) + [pivot] + quicksort(right)"
   ]
  },
  {
   "cell_type": "code",
   "execution_count": 1,
   "id": "eb7c3811",
   "metadata": {},
   "outputs": [],
   "source": [
    "nums = [4,2,5,6,1,2,0,8]"
   ]
  },
  {
   "cell_type": "code",
   "execution_count": 2,
   "id": "6e8a30ad",
   "metadata": {},
   "outputs": [
    {
     "ename": "NameError",
     "evalue": "name 'quicksort' is not defined",
     "output_type": "error",
     "traceback": [
      "\u001b[31m---------------------------------------------------------------------------\u001b[39m",
      "\u001b[31mNameError\u001b[39m                                 Traceback (most recent call last)",
      "\u001b[36mCell\u001b[39m\u001b[36m \u001b[39m\u001b[32mIn[2]\u001b[39m\u001b[32m, line 1\u001b[39m\n\u001b[32m----> \u001b[39m\u001b[32m1\u001b[39m \u001b[43mquicksort\u001b[49m(nums)\n",
      "\u001b[31mNameError\u001b[39m: name 'quicksort' is not defined"
     ]
    }
   ],
   "source": [
    "quicksort(nums)"
   ]
  },
  {
   "cell_type": "code",
   "execution_count": 3,
   "id": "f1c01442",
   "metadata": {},
   "outputs": [],
   "source": [
    "def mergesort(nums):\n",
    "    if len(nums) <= 1:\n",
    "        return nums\n",
    "    mid = len(nums)//2\n",
    "\n",
    "    left = mergesort(nums[:mid])\n",
    "    right = mergesort(nums[mid:])\n",
    "\n",
    "    return merge(left,right)\n",
    "\n",
    "def merge(left,right):\n",
    "    sortedarr= []\n",
    "    i,j =0,0\n",
    "\n",
    "    while i < len(left) and j < len(right):\n",
    "        if left[i] < right[j]:\n",
    "            sortedarr.append(left[i])\n",
    "            i+=1\n",
    "        else:\n",
    "            sortedarr.append(right[j])\n",
    "            j+=1\n",
    "    \n",
    "    sortedarr.extend(left[i:])\n",
    "    sortedarr.extend(right[j:])\n",
    "\n",
    "    return sortedarr\n"
   ]
  },
  {
   "cell_type": "code",
   "execution_count": 5,
   "id": "d4d4eaaa",
   "metadata": {},
   "outputs": [
    {
     "data": {
      "text/plain": [
       "[0, 1, 2, 2, 4, 5, 6, 8]"
      ]
     },
     "execution_count": 5,
     "metadata": {},
     "output_type": "execute_result"
    }
   ],
   "source": [
    "mergesort(nums)"
   ]
  },
  {
   "cell_type": "code",
   "execution_count": null,
   "id": "b8d2fd53",
   "metadata": {},
   "outputs": [],
   "source": []
  }
 ],
 "metadata": {
  "kernelspec": {
   "display_name": "Python 3",
   "language": "python",
   "name": "python3"
  },
  "language_info": {
   "codemirror_mode": {
    "name": "ipython",
    "version": 3
   },
   "file_extension": ".py",
   "mimetype": "text/x-python",
   "name": "python",
   "nbconvert_exporter": "python",
   "pygments_lexer": "ipython3",
   "version": "3.12.3"
  }
 },
 "nbformat": 4,
 "nbformat_minor": 5
}
