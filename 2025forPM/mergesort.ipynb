{
 "cells": [
  {
   "cell_type": "code",
   "execution_count": 14,
   "id": "35f71afe",
   "metadata": {},
   "outputs": [],
   "source": [
    "def mergesort(nums):\n",
    "    if len(nums) <=1:\n",
    "        return nums\n",
    "    \n",
    "    mid = len(nums)//2\n",
    "\n",
    "    leftarr = mergesort(nums[:mid])\n",
    "    rightarr =  mergesort(nums[mid:])\n",
    "\n",
    "    return(merge(leftarr,rightarr))\n",
    "\n",
    "def merge(left,right):\n",
    "    temparr = []\n",
    "\n",
    "    i,j = 0,0\n",
    "\n",
    "    while i < len(left) and j < len(right):\n",
    "        if left[i] < right[j]:\n",
    "            temparr.append(left[i])\n",
    "            i+=1\n",
    "        else:\n",
    "            temparr.append(right[j])\n",
    "            j+=1\n",
    "\n",
    "    temparr.extend(left[i:])\n",
    "    temparr.extend(right[j:])\n",
    "\n",
    "    return temparr\n"
   ]
  },
  {
   "cell_type": "code",
   "execution_count": 15,
   "id": "ebc09664",
   "metadata": {},
   "outputs": [],
   "source": [
    "nums = [1,43,4,56,7,28,2,342,34,12]"
   ]
  },
  {
   "cell_type": "code",
   "execution_count": 16,
   "id": "22823288",
   "metadata": {},
   "outputs": [
    {
     "data": {
      "text/plain": [
       "[1, 2, 4, 7, 12, 28, 34, 43, 56, 342]"
      ]
     },
     "execution_count": 16,
     "metadata": {},
     "output_type": "execute_result"
    }
   ],
   "source": [
    "mergesort(nums)"
   ]
  },
  {
   "cell_type": "code",
   "execution_count": null,
   "id": "64df6483",
   "metadata": {},
   "outputs": [],
   "source": []
  }
 ],
 "metadata": {
  "kernelspec": {
   "display_name": "Python 3",
   "language": "python",
   "name": "python3"
  },
  "language_info": {
   "codemirror_mode": {
    "name": "ipython",
    "version": 3
   },
   "file_extension": ".py",
   "mimetype": "text/x-python",
   "name": "python",
   "nbconvert_exporter": "python",
   "pygments_lexer": "ipython3",
   "version": "3.12.3"
  }
 },
 "nbformat": 4,
 "nbformat_minor": 5
}
