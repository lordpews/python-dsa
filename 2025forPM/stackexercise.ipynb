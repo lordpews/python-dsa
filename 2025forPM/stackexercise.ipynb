{
 "cells": [
  {
   "cell_type": "code",
   "execution_count": 61,
   "id": "8761a68b",
   "metadata": {},
   "outputs": [],
   "source": [
    "class stack:\n",
    "    def __init__(self):\n",
    "        from collections import deque\n",
    "        self.arr =  deque()\n",
    "\n",
    "    def push(self,element):\n",
    "        self.arr.append(element)\n",
    "    \n",
    "    def pop(self):\n",
    "        return self.arr.pop()\n",
    "    \n",
    "    def peek(self):\n",
    "        if len(self.arr) == 0:\n",
    "            return\n",
    "        return self.arr[-1]\n",
    "    \n",
    "    def size(self):\n",
    "        return len(self.arr)\n",
    "    \n",
    "def reverse(string):\n",
    "    s =  stack()\n",
    "    for char in string:\n",
    "        s.push(char)\n",
    "    print(s)\n",
    "    rstr = ''\n",
    "    while s.size() != 0:\n",
    "        rstr += s.pop()\n",
    "\n",
    "    return rstr\n",
    "\n",
    "def checkpara(string):\n",
    "    s =  stack()\n",
    "    for char in string:\n",
    "        if char == '(' or char == '{' or char == '[':\n",
    "            s.push(char)\n",
    "        if (char == '}' and s.peek() == '{') or (char == ')' and s.peek() == '(') or (char == ']' and s.peek() == '['):\n",
    "            s.pop()\n",
    "    print(s.arr)\n",
    "    return s.size() == 0\n",
    "    \n"
   ]
  },
  {
   "cell_type": "code",
   "execution_count": 71,
   "id": "d758136d",
   "metadata": {},
   "outputs": [
    {
     "name": "stdout",
     "output_type": "stream",
     "text": [
      "deque([])\n"
     ]
    },
    {
     "data": {
      "text/plain": [
       "True"
      ]
     },
     "execution_count": 71,
     "metadata": {},
     "output_type": "execute_result"
    }
   ],
   "source": [
    "checkpara('({a+b})')"
   ]
  },
  {
   "cell_type": "code",
   "execution_count": 72,
   "id": "7487598d",
   "metadata": {},
   "outputs": [
    {
     "name": "stdout",
     "output_type": "stream",
     "text": [
      "deque([])\n"
     ]
    },
    {
     "data": {
      "text/plain": [
       "True"
      ]
     },
     "execution_count": 72,
     "metadata": {},
     "output_type": "execute_result"
    }
   ],
   "source": [
    "checkpara(\"[a+b]*(x+2y)*{gg+kk}\")"
   ]
  },
  {
   "cell_type": "code",
   "execution_count": 73,
   "id": "7008ef35",
   "metadata": {},
   "outputs": [
    {
     "name": "stdout",
     "output_type": "stream",
     "text": [
      "deque(['(', '(', '{'])\n"
     ]
    },
    {
     "data": {
      "text/plain": [
       "False"
      ]
     },
     "execution_count": 73,
     "metadata": {},
     "output_type": "execute_result"
    }
   ],
   "source": [
    "checkpara(\"))((a+b}{\")"
   ]
  },
  {
   "cell_type": "code",
   "execution_count": 65,
   "id": "fb742118",
   "metadata": {},
   "outputs": [],
   "source": [
    "# s = stack()\n",
    "# s.push(6)"
   ]
  },
  {
   "cell_type": "code",
   "execution_count": 66,
   "id": "7b90eed6",
   "metadata": {},
   "outputs": [],
   "source": [
    "# s.push(7)\n",
    "# s.push(8)"
   ]
  },
  {
   "cell_type": "code",
   "execution_count": 67,
   "id": "95df3b36",
   "metadata": {},
   "outputs": [
    {
     "data": {
      "text/plain": [
       "deque([])"
      ]
     },
     "execution_count": 67,
     "metadata": {},
     "output_type": "execute_result"
    }
   ],
   "source": [
    "s.arr"
   ]
  },
  {
   "cell_type": "code",
   "execution_count": 68,
   "id": "8b6e58b2",
   "metadata": {},
   "outputs": [],
   "source": [
    "# s.pop()"
   ]
  },
  {
   "cell_type": "code",
   "execution_count": 69,
   "id": "8069ff89",
   "metadata": {},
   "outputs": [],
   "source": [
    "# reverse(\"We will conquere COVID-19\")"
   ]
  },
  {
   "cell_type": "code",
   "execution_count": 70,
   "id": "268ae220",
   "metadata": {},
   "outputs": [],
   "source": [
    "# s.arr"
   ]
  },
  {
   "cell_type": "code",
   "execution_count": null,
   "id": "87212da3",
   "metadata": {},
   "outputs": [],
   "source": []
  }
 ],
 "metadata": {
  "kernelspec": {
   "display_name": "Python 3",
   "language": "python",
   "name": "python3"
  },
  "language_info": {
   "codemirror_mode": {
    "name": "ipython",
    "version": 3
   },
   "file_extension": ".py",
   "mimetype": "text/x-python",
   "name": "python",
   "nbconvert_exporter": "python",
   "pygments_lexer": "ipython3",
   "version": "3.12.3"
  }
 },
 "nbformat": 4,
 "nbformat_minor": 5
}
