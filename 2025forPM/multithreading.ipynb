{
 "cells": [
  {
   "cell_type": "code",
   "execution_count": 1,
   "id": "51dda799",
   "metadata": {},
   "outputs": [
    {
     "name": "stdout",
     "output_type": "stream",
     "text": [
      "Number: 0\n",
      "Letter: a\n",
      "Number: 1\n",
      "Letter: b\n",
      "Number: 2\n",
      "Letter: c\n",
      "Number: 3\n",
      "Letter: d\n",
      "Number: 4\n",
      "Letter: e\n",
      "Both threads finished!\n"
     ]
    }
   ],
   "source": [
    "import threading\n",
    "import time\n",
    "\n",
    "def print_numbers():\n",
    "    for i in range(5):\n",
    "        print(f\"Number: {i}\")\n",
    "        time.sleep(1)\n",
    "\n",
    "def print_letters():\n",
    "    for c in 'abcde':\n",
    "        print(f\"Letter: {c}\")\n",
    "        time.sleep(1)\n",
    "\n",
    "# Create threads\n",
    "t1 = threading.Thread(target=print_numbers)\n",
    "t2 = threading.Thread(target=print_letters)\n",
    "\n",
    "# Start threads\n",
    "t1.start()\n",
    "t2.start()\n",
    "\n",
    "# Wait for both threads to finish\n",
    "t1.join()\n",
    "t2.join()\n",
    "\n",
    "print(\"Both threads finished!\")\n"
   ]
  },
  {
   "cell_type": "code",
   "execution_count": 14,
   "id": "5f85ac52",
   "metadata": {},
   "outputs": [],
   "source": [
    "import time\n",
    "import threading\n",
    "\n",
    "\n",
    "def calcsq(num):\n",
    "    print(\"caculating squares\")\n",
    "    for n in num:\n",
    "        time.sleep(1)\n",
    "        print(\"sqr\",n*n)\n",
    "def calcqb(num):\n",
    "    print(\"caculating cubes\")\n",
    "    for n in num:\n",
    "        time.sleep(1)\n",
    "        print(\"qb\",n*n*n)"
   ]
  },
  {
   "cell_type": "code",
   "execution_count": 15,
   "id": "4f91850e",
   "metadata": {},
   "outputs": [
    {
     "name": "stdout",
     "output_type": "stream",
     "text": [
      "caculating cubes\n",
      "caculating squares\n",
      "qb 1\n",
      "sqr 1\n",
      "qb 8\n",
      "sqr 4\n",
      "qb 27\n",
      "sqr 9\n",
      "qb 64\n",
      "sqr 16\n",
      "qb 125\n",
      "sqr 25\n",
      "time taken 5.0039777755737305\n"
     ]
    }
   ],
   "source": [
    "arr = [1,2,3,4,5]\n",
    "t1 = time.time()\n",
    "\n",
    "th1 = threading.Thread(target=calcqb,args=(arr,))\n",
    "th2 = threading.Thread(target=calcsq,args=(arr,))\n",
    "# calcsq(arr)\n",
    "# calcqb(arr)\n",
    "th1.start()\n",
    "th2.start()\n",
    "\n",
    "th1.join()\n",
    "th2.join()\n",
    "t2 = time.time()\n",
    "print(\"time taken\",t2-t1)"
   ]
  },
  {
   "cell_type": "code",
   "execution_count": null,
   "id": "0133bba8",
   "metadata": {},
   "outputs": [],
   "source": []
  }
 ],
 "metadata": {
  "kernelspec": {
   "display_name": "Python 3",
   "language": "python",
   "name": "python3"
  },
  "language_info": {
   "codemirror_mode": {
    "name": "ipython",
    "version": 3
   },
   "file_extension": ".py",
   "mimetype": "text/x-python",
   "name": "python",
   "nbconvert_exporter": "python",
   "pygments_lexer": "ipython3",
   "version": "3.12.3"
  }
 },
 "nbformat": 4,
 "nbformat_minor": 5
}
