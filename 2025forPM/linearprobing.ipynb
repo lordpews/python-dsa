{
 "cells": [
  {
   "cell_type": "code",
   "execution_count": null,
   "id": "9d4e2451",
   "metadata": {},
   "outputs": [],
   "source": [
    "class hashtable():\n",
    "    def __init__(self):\n",
    "        self.max = 10\n",
    "        self.arr = [None for i in range(self.max)]\n",
    "\n",
    "    def hash(self,key):\n",
    "        h = 0\n",
    "        for char in key:\n",
    "            h += ord(char)\n",
    "\n",
    "        return h%self.max\n",
    "    \n",
    "    def __setitem__(self,key,val):\n",
    "        hash =  self.hash(key)\n",
    "\n",
    "        while self.arr[hash] != None:\n",
    "            hash = hash + 1\n",
    "        self.arr[hash] = (key,val)\n",
    "    def __getitem__(self,key):\n",
    "        hash =  self.hash(key)\n",
    "\n",
    "        while self.arr[hash][0] != key:\n",
    "            hash = hash + 1\n",
    "        \n",
    "    \n",
    "\n"
   ]
  }
 ],
 "metadata": {
  "language_info": {
   "name": "python"
  }
 },
 "nbformat": 4,
 "nbformat_minor": 5
}
