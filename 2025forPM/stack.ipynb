{
 "cells": [
  {
   "cell_type": "code",
   "execution_count": null,
   "id": "287f4d9d",
   "metadata": {},
   "outputs": [],
   "source": [
    "class stack():\n",
    "    def __init__(self):\n",
    "        self.arr =  []\n",
    "\n",
    "\n",
    "    def push(self,val):\n",
    "        self.arr.append(val)\n",
    "\n",
    "    def spop(self):\n",
    "        self\n",
    "        del self.arr[-1]\n",
    "\n",
    "    def top(self):\n",
    "        return self.arr[-1]"
   ]
  },
  {
   "cell_type": "code",
   "execution_count": 90,
   "id": "9a79b83d",
   "metadata": {},
   "outputs": [],
   "source": [
    "s = stack()"
   ]
  },
  {
   "cell_type": "code",
   "execution_count": 91,
   "id": "b61f4090",
   "metadata": {},
   "outputs": [],
   "source": [
    "s.push('last')"
   ]
  },
  {
   "cell_type": "code",
   "execution_count": 100,
   "id": "e5c4d082",
   "metadata": {},
   "outputs": [],
   "source": [
    "s.push('actual last')"
   ]
  },
  {
   "cell_type": "code",
   "execution_count": 101,
   "id": "e89ec782",
   "metadata": {},
   "outputs": [],
   "source": [
    "s.push('final final')"
   ]
  },
  {
   "cell_type": "code",
   "execution_count": 94,
   "id": "90eba90e",
   "metadata": {},
   "outputs": [
    {
     "data": {
      "text/plain": [
       "<bound method stack.spop of <__main__.stack object at 0x7e946f716840>>"
      ]
     },
     "execution_count": 94,
     "metadata": {},
     "output_type": "execute_result"
    }
   ],
   "source": [
    "s.spop"
   ]
  },
  {
   "cell_type": "code",
   "execution_count": 95,
   "id": "36b3b1f7",
   "metadata": {},
   "outputs": [
    {
     "data": {
      "text/plain": [
       "['last', 'actual last', 'final final']"
      ]
     },
     "execution_count": 95,
     "metadata": {},
     "output_type": "execute_result"
    }
   ],
   "source": [
    "s.arr"
   ]
  },
  {
   "cell_type": "code",
   "execution_count": 98,
   "id": "9548f91e",
   "metadata": {},
   "outputs": [],
   "source": [
    "s.spop()"
   ]
  },
  {
   "cell_type": "code",
   "execution_count": 102,
   "id": "d24da05a",
   "metadata": {},
   "outputs": [
    {
     "data": {
      "text/plain": [
       "['last', 'actual last', 'final final']"
      ]
     },
     "execution_count": 102,
     "metadata": {},
     "output_type": "execute_result"
    }
   ],
   "source": [
    "s.arr"
   ]
  },
  {
   "cell_type": "code",
   "execution_count": 103,
   "id": "14b62862",
   "metadata": {},
   "outputs": [
    {
     "data": {
      "text/plain": [
       "'final final'"
      ]
     },
     "execution_count": 103,
     "metadata": {},
     "output_type": "execute_result"
    }
   ],
   "source": [
    "s.top()"
   ]
  },
  {
   "cell_type": "code",
   "execution_count": null,
   "id": "81924a60",
   "metadata": {},
   "outputs": [],
   "source": []
  }
 ],
 "metadata": {
  "kernelspec": {
   "display_name": "Python 3",
   "language": "python",
   "name": "python3"
  },
  "language_info": {
   "codemirror_mode": {
    "name": "ipython",
    "version": 3
   },
   "file_extension": ".py",
   "mimetype": "text/x-python",
   "name": "python",
   "nbconvert_exporter": "python",
   "pygments_lexer": "ipython3",
   "version": "3.12.3"
  }
 },
 "nbformat": 4,
 "nbformat_minor": 5
}
