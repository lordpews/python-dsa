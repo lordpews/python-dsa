{
 "cells": [
  {
   "cell_type": "code",
   "execution_count": 150,
   "metadata": {},
   "outputs": [],
   "source": [
    "class Node:\n",
    "    def __init__(self,data,next):\n",
    "        self.data = data\n",
    "        self.next = next\n",
    "\n",
    "\n",
    "class Linkedlist:\n",
    "    def __init__(self):\n",
    "        self.head = None\n",
    "\n",
    "    def printll(self):\n",
    "        itr = self.head\n",
    "        ll = ''\n",
    "        while itr:\n",
    "            ll += str(itr.data) + '--->'\n",
    "            itr = itr.next\n",
    "        print(ll)\n",
    "\n",
    "    def insatbeg(self,data):\n",
    "        node = Node(data,self.head)\n",
    "        self.head = node\n",
    "    \n",
    "    def insatend(self,data):\n",
    "        if self.head == None:\n",
    "            self.insatbeg(data)\n",
    "        else:\n",
    "            itr = self.head\n",
    "            while itr.next:\n",
    "                itr = itr.next\n",
    "            itr.next = Node(data,None)\n",
    "    \n",
    "    def insertvalues(self,data_list):\n",
    "        for data in data_list:\n",
    "                self.insatend(data)\n",
    "    \n",
    "    def getlen(self):\n",
    "        itr = self.head\n",
    "        count= 0\n",
    "        while itr:\n",
    "            count+=1\n",
    "            itr = itr.next\n",
    "        return count\n",
    "\n",
    "\n",
    "    def removeat(self,index):\n",
    "        if self.head == None:\n",
    "            return 'empty linked list'\n",
    "        \n",
    "        else:\n",
    "            count = 0\n",
    "            itr =self.head\n",
    "            while itr:\n",
    "                if count == index-1:\n",
    "                    itr.next = itr.next.next\n",
    "                itr = itr.next\n",
    "                count+=1\n",
    "    \n",
    "    def insertat(self,data,index):\n",
    "        if self.head == None:\n",
    "            return 'empty linked list'\n",
    "        \n",
    "        else:\n",
    "\n",
    "            count = 0\n",
    "            itr = self.head\n",
    "\n",
    "            while itr:\n",
    "                if count == index -1:\n",
    "                    itr.next = Node(data,itr.next)\n",
    "                itr = itr.next\n",
    "                count +=1\n",
    "\n",
    "    def reverse(self):\n",
    "        itr = self.head\n",
    "        prev = None\n",
    "        while itr:\n",
    "            nxt = itr.next\n",
    "            itr.next = prev\n",
    "            prev = itr\n",
    "            itr = nxt\n",
    "        self.head = prev\n"
   ]
  },
  {
   "cell_type": "code",
   "execution_count": 151,
   "metadata": {},
   "outputs": [],
   "source": [
    "x = Linkedlist()\n"
   ]
  },
  {
   "cell_type": "code",
   "execution_count": 152,
   "metadata": {},
   "outputs": [],
   "source": [
    "x.insatend(2)\n",
    "x.insatend(3232)"
   ]
  },
  {
   "cell_type": "code",
   "execution_count": 153,
   "metadata": {},
   "outputs": [],
   "source": [
    "x.insertvalues(['new1','new2','new3','new4'])\n",
    "x.removeat(3)\n",
    "x.insertat('new insertion',1)"
   ]
  },
  {
   "cell_type": "code",
   "execution_count": 154,
   "metadata": {},
   "outputs": [
    {
     "name": "stdout",
     "output_type": "stream",
     "text": [
      "2--->new insertion--->3232--->new1--->new3--->new4--->\n"
     ]
    }
   ],
   "source": [
    "x.printll()"
   ]
  },
  {
   "cell_type": "code",
   "execution_count": 155,
   "metadata": {},
   "outputs": [
    {
     "data": {
      "text/plain": [
       "6"
      ]
     },
     "execution_count": 155,
     "metadata": {},
     "output_type": "execute_result"
    }
   ],
   "source": [
    "x.getlen()"
   ]
  },
  {
   "cell_type": "code",
   "execution_count": 156,
   "metadata": {},
   "outputs": [],
   "source": [
    "x.reverse()"
   ]
  },
  {
   "cell_type": "code",
   "execution_count": 157,
   "metadata": {},
   "outputs": [
    {
     "name": "stdout",
     "output_type": "stream",
     "text": [
      "new4--->new3--->new1--->3232--->new insertion--->2--->\n"
     ]
    }
   ],
   "source": [
    "x.printll()"
   ]
  },
  {
   "cell_type": "code",
   "execution_count": 158,
   "metadata": {},
   "outputs": [],
   "source": [
    "class Node:\n",
    "    def __init__(self,data,next,prev):\n",
    "        self.data = data\n",
    "        self.prev = prev\n",
    "        self.next = next\n",
    "\n",
    "class DoublyLL:\n",
    "    def __init__(self):\n",
    "        self.head=None\n",
    "\n",
    "    def insatbeg(self,data):\n",
    "        if self.head == None:\n",
    "            node = Node(data,self.head,None)\n",
    "            self.head = node\n",
    "        else:\n",
    "            node = Node(data,self.head,None)\n",
    "            self.head.prev = node\n",
    "            self.head = node\n",
    "    \n",
    "    def insatend(self,data):\n",
    "\n",
    "        if self.head == None:\n",
    "            self.insatbeg(data)\n",
    "\n",
    "        else:\n",
    "\n",
    "            itr = self.head\n",
    "            while itr.next:\n",
    "\n",
    "                itr = itr.next\n",
    "         \n",
    "            itr.next = Node(data,None,itr)\n",
    "\n",
    "    def insertvalues(self,datalist):\n",
    "        for data in datalist:\n",
    "            self.insatend(data)\n",
    "        return\n",
    "    \n",
    "    def printf(self):\n",
    "        itr = self.head\n",
    "        ll = ''\n",
    "        while itr:\n",
    "            ll += str(itr.data) + '<--->'\n",
    "            itr = itr.next\n",
    "        print(ll)\n",
    "\n",
    "    def getlen(self):\n",
    "        itr = self.head\n",
    "        count = 0\n",
    "        while itr:\n",
    "            count+=1\n",
    "            itr = itr.next\n",
    "        print(count)\n",
    "        return\n",
    "    \n",
    "    def reversl(self):\n",
    "        itr = self.head\n",
    "        temp = None\n",
    "\n",
    "        while itr != None:\n",
    "            temp = itr.prev\n",
    "            itr.prev = itr.next\n",
    "            itr.next = temp\n",
    "            itr = itr.prev\n",
    "        self.head = temp.prev\n",
    "            \n",
    "\n",
    "\n"
   ]
  },
  {
   "cell_type": "code",
   "execution_count": 159,
   "metadata": {},
   "outputs": [],
   "source": [
    "d = DoublyLL()\n"
   ]
  },
  {
   "cell_type": "code",
   "execution_count": 160,
   "metadata": {},
   "outputs": [],
   "source": [
    "d.insatend('last')\n",
    "d.insatbeg(12)\n",
    "d.insertvalues(['one','2','three',4])"
   ]
  },
  {
   "cell_type": "code",
   "execution_count": 161,
   "metadata": {},
   "outputs": [
    {
     "name": "stdout",
     "output_type": "stream",
     "text": [
      "12<--->last<--->one<--->2<--->three<--->4<--->\n"
     ]
    }
   ],
   "source": [
    "d.printf()"
   ]
  },
  {
   "cell_type": "code",
   "execution_count": 162,
   "metadata": {},
   "outputs": [
    {
     "name": "stdout",
     "output_type": "stream",
     "text": [
      "6\n"
     ]
    }
   ],
   "source": [
    "d.getlen()"
   ]
  },
  {
   "cell_type": "code",
   "execution_count": 163,
   "metadata": {},
   "outputs": [],
   "source": [
    "d.reversl()"
   ]
  },
  {
   "cell_type": "code",
   "execution_count": 164,
   "metadata": {},
   "outputs": [
    {
     "name": "stdout",
     "output_type": "stream",
     "text": [
      "4<--->three<--->2<--->one<--->last<--->12<--->\n"
     ]
    }
   ],
   "source": [
    "d.printf()"
   ]
  },
  {
   "cell_type": "code",
   "execution_count": null,
   "metadata": {},
   "outputs": [],
   "source": []
  },
  {
   "cell_type": "code",
   "execution_count": null,
   "metadata": {},
   "outputs": [],
   "source": []
  }
 ],
 "metadata": {
  "interpreter": {
   "hash": "916dbcbb3f70747c44a77c7bcd40155683ae19c65e1c03b4aa3499c5328201f1"
  },
  "kernelspec": {
   "display_name": "Python 3.8.10 64-bit",
   "language": "python",
   "name": "python3"
  },
  "language_info": {
   "codemirror_mode": {
    "name": "ipython",
    "version": 3
   },
   "file_extension": ".py",
   "mimetype": "text/x-python",
   "name": "python",
   "nbconvert_exporter": "python",
   "pygments_lexer": "ipython3",
   "version": "3.8.10"
  },
  "orig_nbformat": 4
 },
 "nbformat": 4,
 "nbformat_minor": 2
}
